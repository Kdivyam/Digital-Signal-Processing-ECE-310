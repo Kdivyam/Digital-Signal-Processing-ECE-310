{
 "cells": [
  {
   "cell_type": "markdown",
   "metadata": {},
   "source": [
    "### Classification (Part 2) and Model Selection"
   ]
  },
  {
   "cell_type": "code",
   "execution_count": 4,
   "metadata": {},
   "outputs": [
    {
     "name": "stdout",
     "output_type": "stream",
     "text": [
      "Populating the interactive namespace from numpy and matplotlib\n"
     ]
    }
   ],
   "source": [
    "%pylab inline\n",
    "import numpy as np\n",
    "from sklearn import neighbors\n",
    "from sklearn import svm\n",
    "from sklearn import model_selection\n",
    "from numpy import genfromtxt\n",
    "from sklearn.preprocessing import MinMaxScaler\n",
    "import glob"
   ]
  },
  {
   "cell_type": "markdown",
   "metadata": {},
   "source": [
    "### Spam Detection \n",
    "\n",
    "In this problem, I constructed a crude spam detector. As you all know, when you receive an e-mail, it can be divided into one of two types: ham (useful mail, label $-1$) and spam (junk mail, label $+1$). In the [olden days](http://www.paulgraham.com/spam.html), people tried writing a bunch of rules to detect spam. However, it was quickly seen that machine learning approaches work fairly well for a little bit of work. \n",
    "\n",
    "I designed a spam detector by applying some of the classification techniques you learned in class to a batch of emails used to train and test [SpamAssassin](http://spamassassin.apache.org/), a leading anti-spam software package. \n",
    "\n",
    "Let the *vocabulary* of a dataset be a list of all terms occuring in a data set. So, for example, a vocabulary could be [\"cat\",\"dog\",\"chupacabra\", \"aerospace\", ...]. \n",
    "\n",
    "Our features will be based only the frequencies of terms in our vocabulary occuring in the e-mails (such an approach is called a *bag of words* approach, since we ignore the positions of the terms in the emails). The $j$-th feature is the number of times term $j$ in the vocabulary occurs in the email. If you are interested in further details on this model, you can see Chapters 6 and 13 in [Manning's Book](http://nlp.stanford.edu/IR-book/).\n",
    "\n",
    "I used the following classifiers in this problem:\n",
    "- sklearn.naive_bayes.BernoulliNB (Naive Bayes Classifier with Bernoulli Model)\n",
    "- sklearn.naive_bayes.MultinomialNB (Naive Bayes Classifier with Multinomial Model)\n",
    "- sklearn.svm.LinearSVC (Linear Support Vector Machine)\n",
    "- sklearn.linear_model.LogisticRegression (Logistic Regression)\n",
    "- sklearn.neighbors.KNeighborsClassifier (1-Nearest Neighbor Classifier)\n",
    "\n",
    "In the context of the Bernoulli Model for Naive Bayes, scikit-learn will binarize the features by interpretting the $j$-th feature to be $1$ if the $j$-th term in the vocabulary occurs in the email and $0$ otherwise. This is a categorical Naive Bayes model, with binary features. "
   ]
  },
  {
   "cell_type": "markdown",
   "metadata": {},
   "source": [
    "A sample Ham email is:\n",
    "\n",
    "    From nic@starflung.com  Mon Jun 24 17:06:54 2002\n",
    "    Return-Path: 7910726.0.27May2002215326@mp.opensrs.net\n",
    "    Delivery-Date: Tue May 28 02:53:28 2002\n",
    "    Received: from mp.opensrs.net (mp.opensrs.net [216.40.33.45]) by\n",
    "        dogma.slashnull.org (8.11.6/8.11.6) with ESMTP id g4S1rSe14718 for\n",
    "        <zzz@spamassassin.taint.org>; Tue, 28 May 2002 02:53:28 +0100\n",
    "    Received: (from popensrs@localhost) by mp.opensrs.net (8.9.3/8.9.3) id\n",
    "        VAA04361; Mon, 27 May 2002 21:53:26 -0400\n",
    "    Message-Id: <7910726.0.27May2002215326@mp.opensrs.net>\n",
    "    Date: Mon, 27 May 2002 21:53:26 -0500 (EST)\n",
    "    From: \"Starflung NIC\" <nic@starflung.com>\n",
    "    To: <zzz@spamassassin.taint.org>\n",
    "    Subject: Automated 30 day renewal reminder 2002-05-27\n",
    "    X-Keywords: \n",
    "\n",
    "    The following domains that are registered as belonging\n",
    "    to you are due to expire within the next 60 days. If\n",
    "    you would like to renew them, please contact\n",
    "    nic@starflung.com; otherwise they will be deactivated\n",
    "    and may be registered by another.\n",
    "\n",
    "\n",
    "    Domain Name, Expiry Date\n",
    "    nutmegclothing.com, 2002-06-26\n",
    "    \n",
    "    \n",
    "A sample Spam email is: \n",
    "\n",
    "    From jjj@mymail.dk  Fri Aug 23 11:03:31 2002\n",
    "    Return-Path: <jjj@mymail.dk>\n",
    "    Delivered-To: zzzz@localhost.example.com\n",
    "    Received: from localhost (localhost [127.0.0.1])\n",
    "        by phobos.labs.example.com (Postfix) with ESMTP id 478B54415C\n",
    "        for <zzzz@localhost>; Fri, 23 Aug 2002 06:02:57 -0400 (EDT)\n",
    "    Received: from mail.webnote.net [193.120.211.219]\n",
    "        by localhost with POP3 (fetchmail-5.9.0)\n",
    "        for zzzz@localhost (single-drop); Fri, 23 Aug 2002 11:02:57 +0100 (IST)\n",
    "    Received: from smtp.easydns.com (smtp.easydns.com [205.210.42.30])\n",
    "        by webnote.net (8.9.3/8.9.3) with ESMTP id IAA08912;\n",
    "        Fri, 23 Aug 2002 08:13:36 +0100\n",
    "    From: jjj@mymail.dk\n",
    "    Received: from mymail.dk (unknown [61.97.34.233])\n",
    "        by smtp.easydns.com (Postfix) with SMTP\n",
    "        id 7484A2F85C; Fri, 23 Aug 2002 03:13:31 -0400 (EDT)\n",
    "    Reply-To: <jjj@mymail.dk>\n",
    "    Message-ID: <008c61d64eed$6184e5d5$4bc22de3@udnugg>\n",
    "    To: bbr_hooten@yahoo.com\n",
    "    Subject: HELP WANTED.  WORK FROM HOME REPS.\n",
    "    MiME-Version: 1.0\n",
    "    Content-Type: text/plain;\n",
    "        charset=\"iso-8859-1\"\n",
    "    X-Priority: 3 (Normal)\n",
    "    X-MSMail-Priority: Normal\n",
    "    X-Mailer: Microsoft Outlook, Build 10.0.2616\n",
    "    Importance: Normal\n",
    "    Date: Fri, 23 Aug 2002 03:13:31 -0400 (EDT)\n",
    "    Content-Transfer-Encoding: 8bit\n",
    "\n",
    "    Help wanted.  We are a 14 year old fortune 500 company, that is\n",
    "    growing at a tremendous rate.  We are looking for individuals who\n",
    "    want to work from home.\n",
    "\n",
    "    This is an opportunity to make an excellent income.  No experience\n",
    "    is required.  We will train you.\n",
    "\n",
    "    So if you are looking to be employed from home with a career that has\n",
    "    vast opportunities, then go:\n",
    "\n",
    "    http://www.basetel.com/wealthnow\n",
    "\n",
    "    We are looking for energetic and self motivated people.  If that is you\n",
    "    than click on the link and fill out the form, and one of our\n",
    "    employement specialist will contact you.\n",
    "\n",
    "    To be removed from our link simple go to:\n",
    "\n",
    "    http://www.basetel.com/remove.html\n",
    "\n",
    "\n",
    "    1349lmrd5-948HyhJ3622xXiM0-290VZdq6044fFvN0-799hUsU07l50\n",
    "\n"
   ]
  },
  {
   "cell_type": "markdown",
   "metadata": {},
   "source": [
    "First, we will load the data. Our dataset has a bit over 9000 emails, with about 25% of them being spam. We will use 50% of them as a training set, 25% of them as a validation set and 25% of them as a test set. "
   ]
  },
  {
   "cell_type": "code",
   "execution_count": 5,
   "metadata": {},
   "outputs": [],
   "source": [
    "# Get list of emails\n",
    "spamfiles=glob.glob('./Data/Spam/*')\n",
    "hamfiles=glob.glob('./Data/Ham/*')"
   ]
  },
  {
   "cell_type": "code",
   "execution_count": 6,
   "metadata": {},
   "outputs": [],
   "source": [
    "# First, we will split the files into the training, validation and test sets.\n",
    "\n",
    "np.random.seed(seed=222017) # seed the RNG for repeatability\n",
    "\n",
    "fnames=np.asarray(spamfiles+hamfiles)\n",
    "nfiles=fnames.size\n",
    "labels=np.ones(nfiles)\n",
    "labels[len(spamfiles):]=-1\n",
    "\n",
    "# Randomly permute the files we have\n",
    "idx=np.random.permutation(nfiles)\n",
    "fnames=fnames[idx]\n",
    "labels=labels[idx]\n",
    "\n",
    "#Split the file names into which set they belong to\n",
    "tname=fnames[:int(nfiles/2)]\n",
    "trainlabels=labels[:int(nfiles/2)]\n",
    "vname=fnames[int(nfiles/2):int(nfiles*3/4)]\n",
    "vallabels=labels[int(nfiles/2):int(nfiles*3/4)]\n",
    "tename=fnames[int(3/4*nfiles):]\n",
    "testlabels=labels[int(3/4*nfiles):]"
   ]
  },
  {
   "cell_type": "code",
   "execution_count": 7,
   "metadata": {},
   "outputs": [],
   "source": [
    "from sklearn.feature_extraction.text import CountVectorizer\n",
    "\n",
    "# Get our Bag of Words Features from the data\n",
    "bow = CountVectorizer(input='filename',encoding='iso-8859-1',binary=False)\n",
    "traindata=bow.fit_transform(tname)\n",
    "valdata=bow.transform(vname)\n",
    "testdata=bow.transform(tename)"
   ]
  },
  {
   "cell_type": "markdown",
   "metadata": {},
   "source": [
    "The $100$ most and least common terms in the vocabulary are:"
   ]
  },
  {
   "cell_type": "code",
   "execution_count": 8,
   "metadata": {},
   "outputs": [
    {
     "name": "stdout",
     "output_type": "stream",
     "text": [
      "100 most common terms:  slashnull,dogma,click,not,request,ist,exmh,as,thu,wed,jmason,have,cnet,lists,or,are,mon,html,freshrpms,date,mailman,align,message,00,12,users,postfix,text,arial,type,bgcolor,rpm,ie,22,linux,version,be,taint,your,mailto,20,admin,table,sourceforge,content,color,jm,face,on,border,example,127,aug,gif,this,href,10,img,subject,src,09,nbsp,sep,it,that,0100,height,spamassassin,esmtp,is,size,xent,you,fork,tr,in,list,11,www,br,width,received,localhost,id,of,and,org,by,with,for,net,td,font,2002,from,3d,http,to,the,com \n",
      "\n",
      "100 least common terms:  ÿÿÿÿÿÿÿÿÿÿÿÿÿÿÿÿÿÿÿÿÿÿÿÿÿÿÿÿÿÿÿÿÿÿÿÿÿÿÿÿÿó,snd_index,crittenden,vghhbmsgww91iezvcibzb3vyifrpbwusiefu,snd_major,criuqccibiqnijvkpqkraocgwoeadz9qikwzkkxzo94ow8jaq7kza2xlzdpk9fw07swhmk6zfx4k,crjowqpf7aywdqg8cke9fwakiatnugirizcja5ougeakmggdbyyditzrgcracagvtgzb05k6j8,vgh9,crlsbd,crlsca,vgggkvaadjknu,vgfliejvpgjypldvcmtvdxqgncbqywnrpc9ipjxicj4gidxm,cro19c3zkymlwxiwrclxwvnkbo,vgfby5giuasgpjnj9rtm42jaariaaabm77x,croatian,croatians,sndqbqy,crocodile,li4xiedyzwf0ifbyawnliq0kqsakmzawkybdb21iaw5lzcbszxrhawwgvmfs,li4uli4uli4umtegbw9udghzihbhc3nlzcb0agvuigl0igx1y2tpbhkgy2ft,li4uli4gjduwmcardqozli4uli4gjdusmdawicsgnc4uli4uicq1mcwwmdag,li4gjduwmcardqogicagicagicagicagicagicazli4uli4gjdusmdawicsn,sneakers,croininsimon,croissant,vgeo6v6s0zgo3luaiczcnu6krbnq,cronenberg,cronies,croninsimon,cronjobs,critiqued,vghhdcdzihjpz2h0isbjzib5b3ugagf2zsbjyxigcgf5bwvudhmsihjlbnqspgjypg0kicagicag,vghhdcdzptewmcbwzw9wbgugcmvzcg9uzgvkigfuzcbvcmrlcmvkifjlcg9y,criticize,libadm,criminologia,sncmulpw40hx1jbxrzu2fvmkcmq,cringe,lib_dp_tfcv,cripple,sncqcnkttecctgn5bvtz7vvkpqqrqc6zzxogcy7uv2qkdtio8kmkdrxvgcvw2pchmrvntc,cripples,vgkrcoy7cw8w9xdvzq4wnxiaebf5b3p5,cripssake,cription,vgkpyjuhocexvfofdf0x2butactlaascz19xa9tqovhex,vgk1b3zevjrnvte0izbf82iws9yunh3yk5vpxgbpcbuhjuc8n5fppfm4z87lg,vgjscoci,lhxni1x1kp8wpyeavftigutqlgjou,liars,liapoz,snd_cards_limit,cristine,snd_device_mode,vghlihjlyxnvbibmb3igdghlicjjyxnoiibpcybub3qgymvjyxvzzsb0aglz,vghlidaumiugcmvzcg9uc2ugdg8gdghhdcbpcyaxmdawig9yzgvycybmb3in,criterious,liam_mac_r,critically,criticalpath,criticise,criticisim,snd_id,liagvmlzaxq6igh0dha6ly93d3cuywzmb3jkywjszs1kb21haw5zlmnvbsb0,snd_amp_gpio,vgem05sx1zigu7,vgegbepycobcieacp8dabraqqlqsxgk7qs4gpkc1kpyajg7ghfgeeplsnwvlquljprycfqsqx1eb,vgd2xuaeribtqvopwbga5x,lhjrjtjznanygo9w4bbc6gy30qqlb2acfxdeaqogayslupkqkakg,lhjrfspwvo,vfz6ns9a5vreuanz6tizri9lq1fpmzgnwerse6ay,sneakier,lhhjy7cysohyngev7alcegggbvixwrbxfdo0fquldavryqs7hsqmtqylpatjvwlzou42krg8alzl,lhhgc8c93twndybyz87mljkwyefouktdiwbvstexwl62nhhiiglf4zz1xpwibtjykkug,crqwbmwcjgclmc6czzqmdgoamkyjpcocgazcw4azmsbiytvwiqzgbw7gaoabg0zqwfslciagauyb,crrlnrbxvkknrtigrmowkajbsgpwgb1axrqayy4tikaifdfmqjggbhoenbpqbgayh,lhgubu5p5bx,vfyy6x,crs4s4ulhldawv5gafss0r0r0ontigzc7,vfyxeuedwacdjxriumtvrkybkfketsuq,lhg,vfxmobf8xedxwcyr,lhnpm5q,crts,crua,vfxd1nktpwakkaa2qougeb08zabg4kk1kgumo3bsqi0xcjybhibogmsjgkcaz17nncogwlenelbt,crucially,lhfymtlomst3,vfwsmnpxx9lgc2lonue,crudely,lhc5a7swao1rvec8fzbwts8a75tfdkvcegdnwaqowj8ddeabcburni1mykhs0kieouosb2jhaijq,lhbxvzinmgtulpbgw,lhbxvzinmgq3jvc,lhapayggarbgmx88mijp8pe,crui,lhamo,lhaigood,lh6riid,crtyler1,snatches\n"
     ]
    }
   ],
   "source": [
    "counts=np.reshape(np.asarray(np.argsort(traindata.sum(axis=0))),-1)\n",
    "vocab=np.reshape(np.asarray(bow.get_feature_names()),-1)\n",
    "print (\"100 most common terms: \" , ','.join(str(s) for s in vocab[counts[-100:]]), \"\\n\")\n",
    "print (\"100 least common terms: \" , ','.join(str(s) for s in vocab[counts[:100]]))"
   ]
  },
  {
   "cell_type": "markdown",
   "metadata": {},
   "source": [
    "We will have our training data in `traindata` (with labels in `trainlabels`), validation data in `valdata` (with labels in `vallabels`) and test data in `testdata` (with labels in `testlabels`). The data is stored as a sparse scipy matrix (scipy.sparse.csr.csr_matrix), since we have a decent number of features (~100k), most of which are zero (~0.2% are non-zero), this allows storing the data in a few megabytes. Directly storing it as a numpy array would take around 8 gigabytes. Working with sparse data can make many algorithms run faster and use less storage. "
   ]
  },
  {
   "cell_type": "markdown",
   "metadata": {},
   "source": [
    "I trained each of the following classifiers:\n",
    "- sklearn.naive_bayes.BernoulliNB (Naive Bayes Classifier with Bernoulli Model)\n",
    "- sklearn.naive_bayes.MultinomialNB (Naive Bayes Classifier with Multinomial Model)\n",
    "- sklearn.svm.LinearSVC (Linear Support Vector Machine)\n",
    "- sklearn.linear_model.LogisticRegression (Logistic Regression)\n",
    "- sklearn.neighbors.KNeighborsClassifier (as a 1-Nearest Neighbor Classifier)\n",
    "on the training data in `traindata` with corresponding labels `trainlabels`. Use the default parameters, unless otherwise noted.\n",
    "\n",
    "For each classifier:\n",
    "- Time it took to fit the classifier (i.e. call the .fit method) \n",
    "- Training Error \n",
    "\n"
   ]
  },
  {
   "cell_type": "code",
   "execution_count": 1,
   "metadata": {},
   "outputs": [],
   "source": [
    "from sklearn.naive_bayes import BernoulliNB \n",
    "from sklearn.naive_bayes import MultinomialNB \n",
    "from sklearn.svm import LinearSVC \n",
    "from sklearn.linear_model import LogisticRegression \n",
    "from sklearn.neighbors import KNeighborsClassifier \n",
    "from sklearn.svm import SVC"
   ]
  },
  {
   "cell_type": "code",
   "execution_count": 10,
   "metadata": {},
   "outputs": [
    {
     "name": "stdout",
     "output_type": "stream",
     "text": [
      "Bernoulli NB\n",
      "29.5 ms ± 4.37 ms per loop (mean ± std. dev. of 7 runs, 10 loops each)\n",
      "Training Error: 0.05541292255027813 \n",
      "\n",
      "Multinomial NB\n",
      "17.7 ms ± 476 µs per loop (mean ± std. dev. of 7 runs, 100 loops each)\n",
      "Training Error: 0.01647411210954215 \n",
      "\n",
      "Linear SVC\n",
      "545 ms ± 6.53 ms per loop (mean ± std. dev. of 7 runs, 1 loop each)\n",
      "Training Error: 0.0 \n",
      "\n",
      "Logistic Regression\n",
      "1.76 s ± 124 ms per loop (mean ± std. dev. of 7 runs, 1 loop each)\n",
      "Training Error: 0.0 \n",
      "\n",
      "KNeighbors Classifier\n",
      "5.06 ms ± 317 µs per loop (mean ± std. dev. of 7 runs, 100 loops each)\n",
      "Training error: 0.03465982028241335 \n",
      "\n"
     ]
    }
   ],
   "source": [
    "\n",
    "def classifierError(truelabels,estimatedlabels):\n",
    "    \n",
    "    error_counter = 0\n",
    "    \n",
    "    for i in range(0, truelabels.shape[0]):\n",
    "        \n",
    "        if(truelabels[i] != (estimatedlabels[i])):\n",
    "            error_counter += 1\n",
    "            \n",
    "    return (error_counter/truelabels.shape[0])\n",
    "\n",
    "clf_bernoulli = BernoulliNB()\n",
    "print(\"Bernoulli NB\")\n",
    "%timeit clf_bernoulli.fit(traindata, trainlabels)\n",
    "BernoulliNB(alpha=1.0, binarize=0.0, class_prior=None, fit_prior=True)\n",
    "estimated_trainlabels = clf_bernoulli.predict(traindata)\n",
    "error = classifierError(trainlabels, estimated_trainlabels)\n",
    "print(\"Training Error:\", error,\"\\n\")\n",
    "\n",
    "clf_multinomial = MultinomialNB()\n",
    "print(\"Multinomial NB\")\n",
    "%timeit clf_multinomial.fit(traindata, trainlabels)\n",
    "MultinomialNB(alpha=1.0, class_prior=None, fit_prior=True)\n",
    "estimated_trainlabels = clf_multinomial.predict(traindata)\n",
    "error = classifierError(trainlabels, estimated_trainlabels)\n",
    "print(\"Training Error:\", error,\"\\n\")\n",
    "\n",
    "clf_linearsvc = LinearSVC(random_state=0)\n",
    "print(\"Linear SVC\")\n",
    "%timeit clf_linearsvc.fit(traindata, trainlabels)\n",
    "LinearSVC(C=1.0, class_weight=None, dual=True, fit_intercept=True,\n",
    "     intercept_scaling=1, loss='squared_hinge', max_iter=1000,\n",
    "     multi_class='ovr', penalty='l2', random_state=0, tol=0.0001,\n",
    "     verbose=0)\n",
    "estimated_trainlabels = clf_linearsvc.predict(traindata)\n",
    "error = classifierError(trainlabels, estimated_trainlabels)\n",
    "print(\"Training Error:\", error,\"\\n\")\n",
    "\n",
    "clf_logisticregression = LogisticRegression()\n",
    "print(\"Logistic Regression\")\n",
    "%timeit clf_logisticregression.fit(traindata, trainlabels)\n",
    "estimated_trainlabels = clf_logisticregression.predict(traindata)\n",
    "error = classifierError(trainlabels, estimated_trainlabels)\n",
    "print(\"Training Error:\", error,\"\\n\")\n",
    "\n",
    "clf_kneighbors = KNeighborsClassifier()\n",
    "print(\"KNeighbors Classifier\")\n",
    "%timeit clf_kneighbors.fit(traindata, trainlabels)\n",
    "estimated_trainlabels = clf_kneighbors.predict(valdata)\n",
    "error = classifierError(vallabels,estimated_trainlabels) \n",
    "print(\"Training error:\", error, \"\\n\")\n",
    "\n",
    "# clf_svc = SVC()\n",
    "# print (\"SVC\")\n",
    "# %timeit clf_svc.fit(traindata, trainlabels) \n",
    "# SVC(C=1.0, cache_size=200, class_weight=None, coef0=0.0,\n",
    "#     decision_function_shape='ovr', degree=3, gamma='auto', kernel='rbf',\n",
    "#     max_iter=-1, probability=False, random_state=None, shrinking=True,\n",
    "#     tol=0.001, verbose=False)\n",
    "# estimated_trainlabels = clf_svc.predict(traindata)\n",
    "# error = classifierError(trainlabels, estimated_trainlabels)\n",
    "# print(\"Training Error:\", error,\"\\n\")"
   ]
  },
  {
   "cell_type": "markdown",
   "metadata": {},
   "source": [
    "I ran each of the classifiers on the validation data:\n",
    "- sklearn.naive_bayes.BernoulliNB (Naive Bayes Classifier with Bernoulli Model)\n",
    "- sklearn.naive_bayes.BernoulliNB (Naive Bayes Classifier with Multiomial Model)\n",
    "- sklearn.svm.LinearSVC (Linear Support Vector Machine)\n",
    "- sklearn.linear_model.LogisticRegression (Logistic Regression)\n",
    "- sklearn.neighbors.KNeighborsClassifier (as a 1-Nearest Neighbor Classifier)\n",
    "on the training data in `traindata` with corresponding labels `trainlabels`. Use the default parameters, unless otherwise noted.\n",
    "\n",
    "For each classifier:\n",
    "- Store the labels it predicted as \\_\\_vallabels, where \\_\\_ is NB,MB,SVM,LR,NN respectively. \n",
    "- Time it took to run the classifier on the data \n",
    "- Validation Error \n"
   ]
  },
  {
   "cell_type": "code",
   "execution_count": 11,
   "metadata": {},
   "outputs": [
    {
     "name": "stdout",
     "output_type": "stream",
     "text": [
      "Naive Bayes Classifier with Bernoulli Model\n",
      "15.3 ms ± 170 µs per loop (mean ± std. dev. of 7 runs, 100 loops each)\n",
      "Validation Error: 0.09584937954642704 \n",
      "\n",
      "Naive Bayes Classifier with Multinomial Model\n",
      "6.1 ms ± 141 µs per loop (mean ± std. dev. of 7 runs, 100 loops each)\n",
      "Validation Error: 0.03123662815575524 \n",
      "\n",
      "Linear Suppport Vector Machine\n",
      "2.63 ms ± 42.1 µs per loop (mean ± std. dev. of 7 runs, 100 loops each)\n",
      "Validation Error: 0.008130081300813009 \n",
      "\n",
      "Logistic Regression\n",
      "2.78 ms ± 305 µs per loop (mean ± std. dev. of 7 runs, 100 loops each)\n",
      "Validation Error: 0.008130081300813009 \n",
      "\n",
      "1-Nearest Neighbor Classifier\n",
      "2.19 s ± 110 ms per loop (mean ± std. dev. of 7 runs, 1 loop each)\n",
      "Validation error:\n",
      " 0.017115960633290545 \n",
      "\n"
     ]
    }
   ],
   "source": [
    "\n",
    "print(\"Naive Bayes Classifier with Bernoulli Model\")\n",
    "%timeit clf_bernoulli.predict(valdata)\n",
    "NB_vallabels = clf_bernoulli.predict(valdata)\n",
    "error = classifierError(vallabels, NB_vallabels)\n",
    "print(\"Validation Error:\", error,\"\\n\")\n",
    "\n",
    "print(\"Naive Bayes Classifier with Multinomial Model\")\n",
    "%timeit clf_multinomial.predict(valdata)\n",
    "MB_vallabels = clf_multinomial.predict(valdata)\n",
    "error = classifierError(vallabels, MB_vallabels)\n",
    "print(\"Validation Error:\", error,\"\\n\")\n",
    "\n",
    "print(\"Linear Suppport Vector Machine\")\n",
    "%timeit clf_linearsvc.predict(valdata)\n",
    "SVM_vallabels = clf_linearsvc.predict(valdata)\n",
    "error = classifierError(vallabels, SVM_vallabels)\n",
    "print(\"Validation Error:\", error,\"\\n\")\n",
    "\n",
    "print(\"Logistic Regression\")\n",
    "%timeit clf_logisticregression.predict(valdata)\n",
    "LR_vallabels = clf_logisticregression.predict(valdata)\n",
    "error = classifierError(vallabels, LR_vallabels)\n",
    "print(\"Validation Error:\", error,\"\\n\")\n",
    "\n",
    "print(\"1-Nearest Neighbor Classifier\")\n",
    "clf_kneighbors = neighbors.KNeighborsClassifier(n_neighbors=1)\n",
    "clf_kneighbors.fit(traindata, trainlabels)\n",
    "%timeit clf_kneighbors.predict(valdata)\n",
    "NN_vallabels = clf_kneighbors.predict(valdata)\n",
    "error = classifierError(vallabels,NN_vallabels) \n",
    "print(\"Validation error:\\n\", error, \"\\n\")\n"
   ]
  },
  {
   "cell_type": "markdown",
   "metadata": {},
   "source": [
    "Let us take a more nuanced look at the type of errors made on a data set. The following function calculates a confusion matrix and some statistics."
   ]
  },
  {
   "cell_type": "code",
   "execution_count": 12,
   "metadata": {},
   "outputs": [],
   "source": [
    "def ConfMatr(truelabels,estimatedlabels,classifiername):\n",
    "    # classifiername is a string, such as 'Naive Bayes (Bernoulli)'\n",
    "    cm=np.zeros((2,2))\n",
    "    cm[0,0]=np.sum(np.logical_and(truelabels==1,estimatedlabels==1)) # True Positives\n",
    "    cm[0,1]=np.sum(np.logical_and(truelabels==-1,estimatedlabels==1)) # False Positive\n",
    "    cm[1,0]=np.sum(np.logical_and(truelabels==1,estimatedlabels==-1)) # False Negative\n",
    "    cm[1,1]=np.sum(np.logical_and(truelabels==-1,estimatedlabels==-1)) # True Negatives\n",
    "    print (\"Classifier Name: %s\"% classifiername )\n",
    "    print (\"True Positives:\", cm[0,0], \"False Positive:\", cm[0,1])\n",
    "    print (\"False Negative:\", cm[1,0], \"True Negatives:\", cm[1,1])\n",
    "    print (\"True Positive Rate : \", cm[0,0]/np.sum(truelabels==1))\n",
    "    print (\"False Positive Rate: \", cm[0,1]/np.sum(truelabels==-1))\n",
    "    print (\"---\")"
   ]
  },
  {
   "cell_type": "markdown",
   "metadata": {},
   "source": [
    "Run ConfMatr using the validation labels and their estimates for all the classifiers we've used in this problem. **(5 points)**"
   ]
  },
  {
   "cell_type": "code",
   "execution_count": 13,
   "metadata": {},
   "outputs": [
    {
     "name": "stdout",
     "output_type": "stream",
     "text": [
      "Classifier Name: Naive Bayes Classifier with Bernoulli Model\n",
      "True Positives: 389.0 False Positive: 11.0\n",
      "False Negative: 213.0 True Negatives: 1724.0\n",
      "True Positive Rate :  0.646179401993\n",
      "False Positive Rate:  0.00634005763689\n",
      "---\n",
      "Classifier Name: Naive Bayes Classifier with Multinomial Model\n",
      "True Positives: 538.0 False Positive: 9.0\n",
      "False Negative: 64.0 True Negatives: 1726.0\n",
      "True Positive Rate :  0.893687707641\n",
      "False Positive Rate:  0.00518731988473\n",
      "---\n",
      "Classifier Name: Linear Suppport Vector Machine\n",
      "True Positives: 593.0 False Positive: 10.0\n",
      "False Negative: 9.0 True Negatives: 1725.0\n",
      "True Positive Rate :  0.985049833887\n",
      "False Positive Rate:  0.00576368876081\n",
      "---\n",
      "Classifier Name: Logistic Regression\n",
      "True Positives: 593.0 False Positive: 10.0\n",
      "False Negative: 9.0 True Negatives: 1725.0\n",
      "True Positive Rate :  0.985049833887\n",
      "False Positive Rate:  0.00576368876081\n",
      "---\n",
      "Classifier Name: 1-Nearest Neighbor Classifier\n",
      "True Positives: 576.0 False Positive: 14.0\n",
      "False Negative: 26.0 True Negatives: 1721.0\n",
      "True Positive Rate :  0.956810631229\n",
      "False Positive Rate:  0.00806916426513\n",
      "---\n"
     ]
    }
   ],
   "source": [
    "# Put your code here\n",
    "ConfMatr(vallabels, NB_vallabels,\"Naive Bayes Classifier with Bernoulli Model\")\n",
    "ConfMatr(vallabels, MB_vallabels,\"Naive Bayes Classifier with Multinomial Model\")\n",
    "ConfMatr(vallabels, SVM_vallabels,\"Linear Suppport Vector Machine\")\n",
    "ConfMatr(vallabels, LR_vallabels,\"Logistic Regression\")\n",
    "ConfMatr(vallabels, NN_vallabels,\"1-Nearest Neighbor Classifier\")"
   ]
  },
  {
   "cell_type": "markdown",
   "metadata": {},
   "source": [
    "[True positive rate is how many how many spam emails actually get classified as spam email.\n",
    "The higher the true positive rate, the more spam gets filtered out. Therefore, we would want a true positive rate.\n",
    "False positive rate is how many ham emails get classified as spam email.\n",
    "We want the false positive rate to be extremely low, because we don't want to miss any ham email which may be of importance. ]"
   ]
  },
  {
   "cell_type": "markdown",
   "metadata": {},
   "source": [
    "[The classifier I would choose for this problem is a linear SVM. The linear SVM has the highest true positive rate and one of the least false positive rates. For detecting spam in the UofI email system, I would firstly have a large bunch of keywords to check for in emails, just like the problem we just solved above. I would also have a report spam button in user's mailboxes to identify new spam threats and add keywords from the new spam threats to my existing keywords set. The report spam button is one of the biggest factors why Gmail is so successful in preventing spam. ]"
   ]
  },
  {
   "cell_type": "code",
   "execution_count": 14,
   "metadata": {},
   "outputs": [
    {
     "name": "stdout",
     "output_type": "stream",
     "text": [
      "Test Error: 0.00641573994867408 \n",
      "\n",
      "Classifier Name: Linear Suppport Vector Machine\n",
      "True Positives: 613.0 False Positive: 8.0\n",
      "False Negative: 7.0 True Negatives: 1710.0\n",
      "True Positive Rate :  0.988709677419\n",
      "False Positive Rate:  0.0046565774156\n",
      "---\n"
     ]
    }
   ],
   "source": [
    "\n",
    "estimated_testlabels = clf_linearsvc.predict(testdata)\n",
    "error = classifierError(testlabels, estimated_testlabels)\n",
    "print(\"Test Error:\", error,\"\\n\")\n",
    "\n",
    "ConfMatr(testlabels, estimated_testlabels,\"Linear Suppport Vector Machine\")\n",
    "\n",
    "# clf_linearsvc.predict(valdata)\n",
    "# SVM_vallabels = clf_linearsvc.predict(valdata)\n",
    "# error = classifierError(vallabels, SVM_vallabels)\n",
    "# print(\"Validation Error:\", error,\"\\n\")"
   ]
  },
  {
   "cell_type": "markdown",
   "metadata": {},
   "source": [
    "[Test Error: 0.00641573994867408 \n",
    "\n",
    "Classifier Name: Linear Suppport Vector Machine\n",
    "True Positives: 613.0 False Positive: 8.0\n",
    "False Negative: 7.0 True Negatives: 1710.0\n",
    "True Positive Rate :  0.988709677419\n",
    "False Positive Rate:  0.0046565774156\n",
    "\n",
    "The false positive rate for the test data is actually lower than the false positive rate for the validation data. This is a good thing because this means that lesser ham emails are classified as spam emails.]"
   ]
  },
  {
   "cell_type": "markdown",
   "metadata": {
    "collapsed": true
   },
   "source": [
    "### Cross-Validation "
   ]
  },
  {
   "cell_type": "markdown",
   "metadata": {},
   "source": [
    "This is a function which implements $5$-fold cross-validation to estimate the error of a classifier with cross-validation with the 0,1-loss for k-Nearest Neighbors (kNN). \n",
    "\n",
    "Input:\n",
    "* A (N,d) numpy.ndarray of training data, trainData (with N divisible by 5)\n",
    "* A length $N$ numpy.ndarray of training labels, trainLabels\n",
    "* A number $k$, for which cross-validated error estimates will be outputted for $1,\\ldots,k$\n",
    "\n",
    "The output will be a vector (represented as a numpy.ndarray) err, such that err[i] is the cross-validated estimate of using i neighbors (err will be of length $k+1$; the zero-th component of the vector will be meaningless). \n"
   ]
  },
  {
   "cell_type": "code",
   "execution_count": 25,
   "metadata": {},
   "outputs": [],
   "source": [
    "def crossValidationkNN(trainData,trainLabels,k):\n",
    "\n",
    "    # Error vector\n",
    "    err = np.zeros(k + 1)\n",
    "\n",
    "    # Number of data points\n",
    "    n = trainData.shape[0]\n",
    "    n /= 5\n",
    "    \n",
    "    copy_trainData = trainData\n",
    "    copy_trainLabels = trainLabels\n",
    "    \n",
    "    for i in range(1, k + 1):\n",
    "        \n",
    "        err_holder = 0\n",
    "        for j in range(1, (5 + 1)):\n",
    "            \n",
    "            # Extract the validation set\n",
    "            validation_set_data = trainData[int(((j - 1) * n)):int((j * n))]\n",
    "            #print(validation_set_data.shape[0])\n",
    "            validation_set_labels = trainLabels[int(((j - 1) * n)):int((j * n))]\n",
    "            #print(validation_set_labels.shape[0])\n",
    "\n",
    "            #arr = np.delete(arr, np.s_[0:2], 0)\n",
    "            training_set_data = np.delete(copy_trainData, np.s_[int(((j - 1) * n)):int((j * n))], 0)\n",
    "            #print(training_set_data.shape[0])\n",
    "            training_set_labels = np.delete(copy_trainLabels, np.s_[int(((j - 1) * n)):int((j * n))], 0)\n",
    "            #print(training_set_labels.shape[0])\n",
    "            #print(i)\n",
    "            # Reset training set holders\n",
    "            copy_trainData = trainData\n",
    "            copy_trainLabels = trainLabels\n",
    "\n",
    "            # Perform training\n",
    "            neigh = neighbors.KNeighborsClassifier(n_neighbors=i, algorithm='brute')\n",
    "            neigh.fit(training_set_data, training_set_labels)\n",
    "            estimatedvallabels = neigh.predict(validation_set_data)\n",
    "            #vallabels_cross_validation = vallabels[int(((j - 1) * n)):int((j * n))]\n",
    "            err_holder += classifierError(validation_set_labels,estimatedvallabels)\n",
    "        err[i] = err_holder/5\n",
    "        #err[i] = neigh.score()\n",
    "    return err\n"
   ]
  },
  {
   "cell_type": "markdown",
   "metadata": {},
   "source": [
    "Now, we will load some data (acquired from <a href=\"http://www.cs.ubc.ca/~murphyk/\">K.P. Murphy</a>'s <a href=\"https://github.com/probml/pmtk3\"> PMTK tookit</a>)."
   ]
  },
  {
   "cell_type": "code",
   "execution_count": 26,
   "metadata": {},
   "outputs": [],
   "source": [
    "problem2_tmp= genfromtxt('Data/p2.csv', delimiter=',')\n",
    "\n",
    "# Randomly reorder the data\n",
    "np.random.seed(seed=2217) # seed the RNG for repeatability\n",
    "idx=np.random.permutation(problem2_tmp.shape[0])\n",
    "problem2_tmp=problem2_tmp[idx]\n",
    "\n",
    "#The training data which you will use is called \"traindata\"\n",
    "traindata=problem2_tmp[:200,:2]\n",
    "#The training labels are in \"labels\"\n",
    "trainlabels=problem2_tmp[:200,2]\n",
    "\n",
    "#The test data which you will use is called \"testdata\" with labels \"testlabels\"\n",
    "testdata=problem2_tmp[200:,:2]\n",
    "testlabels=problem2_tmp[200:,2]"
   ]
  },
  {
   "cell_type": "markdown",
   "metadata": {},
   "source": [
    "Plot the cross-validation error versus number of neighbors for $1,\\ldots,30$ neighbors."
   ]
  },
  {
   "cell_type": "code",
   "execution_count": 27,
   "metadata": {},
   "outputs": [
    {
     "data": {
      "text/plain": [
       "[<matplotlib.lines.Line2D at 0x114076630>]"
      ]
     },
     "execution_count": 27,
     "metadata": {},
     "output_type": "execute_result"
    },
    {
     "data": {
      "image/png": "[encoded data removed]",
      "text/plain": [
       "<matplotlib.figure.Figure at 0x113b77b38>"
      ]
     },
     "metadata": {
      "needs_background": "light"
     },
     "output_type": "display_data"
    }
   ],
   "source": [
    "\n",
    "\n",
    "import matplotlib.pyplot as plt\n",
    "index = np.arange(0,31)\n",
    "# 5-fold Cross validation\n",
    "err = crossValidationkNN(traindata,trainlabels,30)\n",
    "plt.plot(index[1:], err[1:])"
   ]
  },
  {
   "cell_type": "markdown",
   "metadata": {},
   "source": [
    "Number of neighbors which minimizes the cross-validation error:"
   ]
  },
  {
   "cell_type": "code",
   "execution_count": 28,
   "metadata": {},
   "outputs": [
    {
     "name": "stdout",
     "output_type": "stream",
     "text": [
      "Minimum Cross Validation Error:  0.175 \n",
      "\n",
      "Number of neighbors:  14 \n",
      "\n"
     ]
    }
   ],
   "source": [
    "\n",
    "min_error = np.amin(err[1:])\n",
    "min_neighbors = np.argmin(err[1:])\n",
    "print(\"Minimum Cross Validation Error: \", min_error, \"\\n\")\n",
    "print(\"Number of neighbors: \", min_neighbors + 1, \"\\n\")"
   ]
  },
  {
   "cell_type": "markdown",
   "metadata": {},
   "source": [
    "[Minimum Cross Validation Error:  0.175\n",
    "\n",
    "Number of neighbors:  14]"
   ]
  },
  {
   "cell_type": "markdown",
   "metadata": {},
   "source": [
    "Trained a kNN model on the whole training data using the minimum number of neighbors found:"
   ]
  },
  {
   "cell_type": "code",
   "execution_count": 29,
   "metadata": {},
   "outputs": [
    {
     "name": "stdout",
     "output_type": "stream",
     "text": [
      "Test Error:  0.214 \n",
      "\n"
     ]
    }
   ],
   "source": [
    "\n",
    "neigh_train = neighbors.KNeighborsClassifier(n_neighbors=14, algorithm='brute')\n",
    "neigh_train.fit(traindata, trainlabels)\n",
    "estimatedtestlabels_knn = neigh_train.predict(testdata)\n",
    "err_knn = classifierError(testlabels,estimatedtestlabels_knn)\n",
    "print(\"Test Error: \", err_knn, \"\\n\")"
   ]
  },
  {
   "cell_type": "markdown",
   "metadata": {},
   "source": [
    "[Test Error:  0.214\n",
    "This test error is much higher than the previous higher cross validation error.]\n"
   ]
  },
  {
   "cell_type": "markdown",
   "metadata": {},
   "source": [
    "### Detecting Cancer with SVMs and Logistic Regression "
   ]
  },
  {
   "cell_type": "markdown",
   "metadata": {},
   "source": [
    "We consider the [Breast Cancer Wisconsin Data Set](https://archive.ics.uci.edu/ml/datasets/Breast+Cancer+Wisconsin+%28Diagnostic%29) from \n",
    "W.N. Street, W.H. Wolberg and O.L. Mangasarian. Nuclear feature extraction for breast tumor diagnosis. IS&T/SPIE 1993 International Symposium on Electronic Imaging: Science and Technology, volume 1905, pages 861-870, San Jose, CA, 1993. \n",
    "\n",
    "The authors diagnosed people by characterizing 3 cell nuclei per person extracted from the breast (pictures [here](http://web.archive.org/web/19970225174429/http://www.cs.wisc.edu/~street/images/)), each with 10 features (for a 30-dimensional feature space):\n",
    "\n",
    "1. radius (mean of distances from center to points on the perimeter) \n",
    "\n",
    "2. texture (standard deviation of gray-scale values) \n",
    "\n",
    "3. perimeter \n",
    "\n",
    "4. area \n",
    "\n",
    "5. smoothness (local variation in radius lengths) \n",
    "\n",
    "6. compactness (perimeter^2 / area - 1.0) \n",
    "\n",
    "7. concavity (severity of concave portions of the contour) \n",
    "\n",
    "8. concave points (number of concave portions of the contour) \n",
    "\n",
    "9. symmetry \n",
    "\n",
    "10. fractal dimension (\"coastline approximation\" - 1)\n",
    "\n",
    "and classified the sample into one of two classes: Malignant ($+1$) or Benign ($-1$). You can read the original paper for more on what these features mean.\n",
    "\n",
    "I attempted to classify if a sample is Malignant or Benign using Support Vector Machines, as well as Logistic Regression. Since we don't have all that much data, I used 10-fold cross-validation to tune our parameters for our SVMs and Logistic Regression. We use 90% of the data for training, and 10% for testing.\n"
   ]
  },
  {
   "cell_type": "markdown",
   "metadata": {},
   "source": [
    "First, we load the data. We will use scikit-learn's train test split function to split the data. The data is scaled for reasons outlined <a href=\"http://www.csie.ntu.edu.tw/~cjlin/papers/guide/guide.pdf\">here</a>. In short, it helps avoid some numerical issues and avoids some problems with certain features which are typically large affecting the SVM optimization problem unfairly compared to features which are typically small. "
   ]
  },
  {
   "cell_type": "code",
   "execution_count": 30,
   "metadata": {},
   "outputs": [],
   "source": [
    "from sklearn.model_selection import train_test_split\n",
    "\n",
    "cancer = genfromtxt('Data/wdbc.csv', delimiter=',')\n",
    "\n",
    "np.random.seed(seed=282017) # seed the RNG for repeatability\n",
    "idx=np.random.permutation(cancer.shape[0])\n",
    "cancer=cancer[idx]\n",
    "\n",
    "cancer_features=cancer[:,1:]\n",
    "cancer_labels=cancer[:,0]\n",
    "\n",
    "#The training data is in data_train with labels label_train. \n",
    "# The test data is in data_test with labels label_test.\n",
    "data_train, data_test, label_train, label_test = train_test_split(cancer_features,cancer_labels,test_size=0.1,random_state=292017)\n",
    "\n",
    "# Rescale the training data and scale the test data correspondingly\n",
    "scaler=MinMaxScaler(feature_range=(-1,1))\n",
    "data_train=scaler.fit_transform(data_train) #Note that the scaling is determined solely via the training data!\n",
    "data_test=scaler.transform(data_test)"
   ]
  },
  {
   "cell_type": "markdown",
   "metadata": {},
   "source": [
    "Use cross-validation to select a value of $C$ for a linear SVM (sklearn.svm.LinearSVC) by varying $C$ from $2^{-5},2^{-4},\\ldots,2^{15}$. \n"
   ]
  },
  {
   "cell_type": "code",
   "execution_count": 31,
   "metadata": {},
   "outputs": [
    {
     "name": "stdout",
     "output_type": "stream",
     "text": [
      "C: 0.03125\n",
      "Cross Validation Error: 0.0349924585219 \n",
      "\n",
      "C: 0.0625\n",
      "Cross Validation Error: 0.0329939668175 \n",
      "\n",
      "C: 0.125\n",
      "Cross Validation Error: 0.027149321267 \n",
      "\n",
      "C: 0.25\n",
      "Cross Validation Error: 0.0291478129713 \n",
      "\n",
      "C: 0.5\n",
      "Cross Validation Error: 0.0330693815988 \n",
      "\n",
      "C: 1\n",
      "Cross Validation Error: 0.0311463046757 \n",
      "\n",
      "C: 2\n",
      "Cross Validation Error: 0.0311840120664 \n",
      "\n",
      "C: 4\n",
      "Cross Validation Error: 0.0292609351433 \n",
      "\n",
      "C: 8\n",
      "Cross Validation Error: 0.0292609351433 \n",
      "\n",
      "C: 16\n",
      "Cross Validation Error: 0.0311463046757 \n",
      "\n",
      "C: 32\n",
      "Cross Validation Error: 0.0368778280543 \n",
      "\n",
      "C: 64\n",
      "Cross Validation Error: 0.0351055806938 \n",
      "\n",
      "C: 128\n",
      "Cross Validation Error: 0.0351825037707 \n",
      "\n",
      "C: 256\n",
      "Cross Validation Error: 0.0429487179487 \n",
      "\n",
      "C: 512\n",
      "Cross Validation Error: 0.0467963800905 \n",
      "\n",
      "C: 1024\n",
      "Cross Validation Error: 0.0466440422323 \n",
      "\n",
      "C: 2048\n",
      "Cross Validation Error: 0.052641025641 \n",
      "\n",
      "C: 4096\n",
      "Cross Validation Error: 0.0371432880845 \n",
      "\n",
      "C: 8192\n",
      "Cross Validation Error: 0.0428355957768 \n",
      "\n",
      "C: 16384\n",
      "Cross Validation Error: 0.0469095022624 \n",
      "\n",
      "C: 32768\n",
      "Cross Validation Error: 0.0465309200603 \n",
      "\n"
     ]
    }
   ],
   "source": [
    "\n",
    "from sklearn import svm\n",
    "from sklearn.model_selection import cross_val_score\n",
    "X = data_train\n",
    "y = label_train\n",
    "for i in range(-5, 16):\n",
    "    val = 2**(i)\n",
    "    print(\"C:\", val)\n",
    "    svc = svm.LinearSVC(C=val)\n",
    "#lasso = linear_model.Lasso()\n",
    "    cross_validation_error = 1 - mean(cross_val_score(svc, X, y, cv=10))  \n",
    "    print(\"Cross Validation Error:\",cross_validation_error, \"\\n\")\n",
    "#print(cross_val_score(svc, X, y, cv=10))\n",
    "#cross_val_score(estimator, X, y=None, groups=None, scoring=None, cv=10, n_jobs=1, verbose=0, fit_params=None, pre_dispatch=‘2*n_jobs’)"
   ]
  },
  {
   "cell_type": "markdown",
   "metadata": {},
   "source": [
    "[C: 0.125\n",
    "Cross Validation Error: 0.027149321267]"
   ]
  },
  {
   "cell_type": "markdown",
   "metadata": {},
   "source": [
    "I experimented with using kernels in an SVM, particularly the Gaussian RBF kernel (in sklearn.svm.SVC). The SVM has two parameters to tune in this case: $C$ (as before), and $\\gamma$, which is a parameter in the RBF. \n",
    "\n",
    "Use cross-validation to select parameters $(C,\\gamma)$ by searching varying $(C,\\gamma)$ over $C=2^{-5},2^{-4},\\ldots,2^{15}$ and $\\gamma=2^{-15},\\ldots,2^{3}$ \n",
    "\n",
    "This procedure is known as a *grid search*.We are using a fairly coarse grid for this problem, but one could use a finer grid once the rough range of good parameters is known (rather than starting with a fine grid, which would waste a lot of time). "
   ]
  },
  {
   "cell_type": "code",
   "execution_count": 32,
   "metadata": {},
   "outputs": [
    {
     "name": "stdout",
     "output_type": "stream",
     "text": [
      "Cross Validation Error: 0.0194570135747 \n",
      "\n",
      "C: 8 \n",
      "\n",
      "Gamma: 0.125 \n",
      "\n"
     ]
    }
   ],
   "source": [
    "\n",
    "mini = 1\n",
    "# Loop for C\n",
    "for i in range(-5, 16):\n",
    "    \n",
    "    # Loop for Gamma\n",
    "    for j in range(-15, 4):\n",
    "        \n",
    "        val = 2**(i)\n",
    "        #print(\"C:\", val)\n",
    "        gam = 2**(j)\n",
    "        #print(\"Gamma:\", gam)\n",
    "        svc = svm.SVC(C=val, gamma=gam, kernel='rbf')\n",
    "        #lasso = linear_model.Lasso()\n",
    "        \n",
    "        cross_validation_error = 1 - mean(cross_val_score(svc, X, y, cv=10))\n",
    "        \n",
    "        if (cross_validation_error < mini):\n",
    "            \n",
    "            # Store C, gamma indices\n",
    "            i_val = i\n",
    "            j_gam = j\n",
    "            mini = cross_validation_error\n",
    "            \n",
    "print(\"Cross Validation Error:\",mini, \"\\n\")\n",
    "print(\"C:\", 2**(i_val), \"\\n\")\n",
    "print(\"Gamma:\", 2**(j_gam), \"\\n\")\n",
    "        "
   ]
  },
  {
   "cell_type": "markdown",
   "metadata": {},
   "source": [
    "[Cross Validation Error: 0.0194570135747 \n",
    "\n",
    "C: 8 \n",
    "\n",
    "Gamma: 0.125\n",
    "\n",
    "These values of C, Gamma minimise the validation error]"
   ]
  },
  {
   "cell_type": "markdown",
   "metadata": {},
   "source": [
    "ogistic Regression normally has a regularizer parameter to promote stability. Scikit-learn calls this parameter $C$ (which is like $\\lambda^{-1}$ in the notes); see the [LibLinear](http://www.csie.ntu.edu.tw/~cjlin/papers/liblinear.pdf) documentation for the exact meaning of $C$. \n",
    "\n",
    "Use cross-validation to select a value of $C$ for logistic regression (sklearn.linear_model.LogisticRegression) by varying $C$ from $2^{-14},2^{-4},\\ldots,2^{14}$. "
   ]
  },
  {
   "cell_type": "code",
   "execution_count": 33,
   "metadata": {},
   "outputs": [
    {
     "name": "stdout",
     "output_type": "stream",
     "text": [
      "Cross Validation Error: 0.027149321267 \n",
      "\n",
      "C: 2\n"
     ]
    }
   ],
   "source": [
    "\n",
    "from sklearn import linear_model\n",
    "from sklearn.model_selection import cross_val_score\n",
    "X = data_train\n",
    "y = label_train\n",
    "min = 1\n",
    "\n",
    "for i in range(-14, 15):\n",
    "    val = 2**(i)\n",
    "    #print(\"C:\", val)\n",
    "    lr = linear_model.LogisticRegression(C=val)\n",
    "#lasso = linear_model.Lasso()\n",
    "    cross_validation_error = 1 - mean(cross_val_score(lr, X, y, cv=10))  \n",
    "    #print(\"Cross Validation Error:\",cross_validation_error, \"\\n\")\n",
    "    if (cross_validation_error < min):\n",
    "        min = cross_validation_error\n",
    "        i_val = i\n",
    "        \n",
    "print(\"Cross Validation Error:\", min, \"\\n\")\n",
    "print(\"C:\", 2**(i_val))"
   ]
  },
  {
   "cell_type": "markdown",
   "metadata": {},
   "source": [
    "[Cross Validation Error: 0.027149321267 \n",
    "\n",
    "C: 2]"
   ]
  },
  {
   "cell_type": "markdown",
   "metadata": {},
   "source": [
    "[Out of all the classifiers tested, I would pick Linear SVM. It has the least cross-validation error. Linear SVM is also easier to train. Gaussian RBF takes a long time to compute.]"
   ]
  },
  {
   "cell_type": "markdown",
   "metadata": {},
   "source": [
    "Finally, I trained the classifier selected above on the whole training set and estimated the prediction error using the test set. "
   ]
  },
  {
   "cell_type": "code",
   "execution_count": 34,
   "metadata": {},
   "outputs": [
    {
     "name": "stdout",
     "output_type": "stream",
     "text": [
      "Prediction Error: 0.017543859649122806 \n",
      "\n"
     ]
    }
   ],
   "source": [
    "\n",
    "clf_linearsvc = LinearSVC(random_state=0)\n",
    "\n",
    "clf_linearsvc.fit(data_train, label_train)\n",
    "LinearSVC(C=0.125, class_weight=None, dual=True, fit_intercept=True,\n",
    "     intercept_scaling=1, loss='squared_hinge', max_iter=1000,\n",
    "     multi_class='ovr', penalty='l2', random_state=0, tol=0.0001,\n",
    "     verbose=0)\n",
    "estimated_test_labels = clf_linearsvc.predict(data_test)\n",
    "error = classifierError(label_test, estimated_test_labels)\n",
    "print(\"Prediction Error:\", error,\"\\n\")"
   ]
  },
  {
   "cell_type": "markdown",
   "metadata": {},
   "source": [
    "[Prediction Error: 0.017543859649122806\n",
    "The prediction error is smaller than the cross-validation error]"
   ]
  },
  {
   "cell_type": "markdown",
   "metadata": {},
   "source": [
    "[0-1 loss might not be the most appropriate performance measure. If you are suffering from a disease and it does not get caught it can be a huge problem. If you are not suffering from a disease and it gets reported its not a big deal. Therefore, we need some quantification for a a false positive and a false negative.]"
   ]
  },
  {
   "cell_type": "markdown",
   "metadata": {
    "collapsed": true
   },
   "source": []
  }
 ],
 "metadata": {
  "anaconda-cloud": {},
  "kernelspec": {
   "display_name": "Python 3",
   "language": "python",
   "name": "python3"
  },
  "language_info": {
   "codemirror_mode": {
    "name": "ipython",
    "version": 3
   },
   "file_extension": ".py",
   "mimetype": "text/x-python",
   "name": "python",
   "nbconvert_exporter": "python",
   "pygments_lexer": "ipython3",
   "version": "3.6.1"
  }
 },
 "nbformat": 4,
 "nbformat_minor": 1
}
